{
  "cells": [
    {
      "cell_type": "markdown",
      "metadata": {
        "id": "view-in-github",
        "colab_type": "text"
      },
      "source": [
        "<a href=\"https://colab.research.google.com/github/bhaskarfx/Compiler-Design-Lab-using-LEX-Programs-for-Lexical-Analysis-Design/blob/main/email_forensics_1.ipynb\" target=\"_parent\"><img src=\"https://colab.research.google.com/assets/colab-badge.svg\" alt=\"Open In Colab\"/></a>"
      ]
    },
    {
      "cell_type": "code",
      "execution_count": null,
      "metadata": {
        "colab": {
          "base_uri": "https://localhost:8080/"
        },
        "id": "W8EexR5Kk5eD",
        "outputId": "7485d0f8-0e90-4d3a-82e4-1b56ffe94583"
      },
      "outputs": [
        {
          "output_type": "stream",
          "name": "stdout",
          "text": [
            "Drive already mounted at /content/drive; to attempt to forcibly remount, call drive.mount(\"/content/drive\", force_remount=True).\n"
          ]
        }
      ],
      "source": [
        "# prompt: connect with my drive\n",
        "\n",
        "from google.colab import drive\n",
        "drive.mount('/content/drive')"
      ]
    },
    {
      "cell_type": "code",
      "source": [
        "import email\n",
        "from email import policy\n",
        "from email.parser import BytesParser\n",
        "import os"
      ],
      "metadata": {
        "id": "uJZCoV5pDkMv"
      },
      "execution_count": null,
      "outputs": []
    },
    {
      "cell_type": "code",
      "source": [
        "# Function to parse the .eml file\n",
        "def parse_eml(file_path):\n",
        "    with open(file_path, 'rb') as file:\n",
        "        msg = BytesParser(policy=policy.default).parse(file)\n",
        "    return msg"
      ],
      "metadata": {
        "id": "wK9vumDgDoB2"
      },
      "execution_count": null,
      "outputs": []
    },
    {
      "cell_type": "code",
      "source": [
        "# Function to extract email headers\n",
        "def extract_headers(msg):\n",
        "    headers = {\n",
        "        \"From\": msg[\"From\"],\n",
        "        \"To\": msg[\"To\"],\n",
        "        \"Subject\": msg[\"Subject\"],\n",
        "        \"Date\": msg[\"Date\"],\n",
        "        \"Message-ID\": msg[\"Message-ID\"],\n",
        "        \"Reply-To\": msg[\"Reply-To\"],\n",
        "        \"Received\": msg[\"Received\"]\n",
        "    }\n",
        "    return headers"
      ],
      "metadata": {
        "id": "MCc2dzCdDqo9"
      },
      "execution_count": null,
      "outputs": []
    },
    {
      "cell_type": "code",
      "source": [
        "def extract_body(msg):\n",
        "    if msg.is_multipart():\n",
        "        # If multipart, loop through each part and get the text/plain or text/html\n",
        "        for part in msg.iter_parts():\n",
        "            if part.get_content_type() == 'text/plain':\n",
        "                return part.get_payload(decode=True).decode(part.get_content_charset(), 'ignore')\n",
        "            elif part.get_content_type() == 'text/html':\n",
        "                return part.get_payload(decode=True).decode(part.get_content_charset(), 'ignore')\n",
        "        # If no text/plain or text/html is found, return an empty string to avoid NoneType error\n",
        "        return \"\"\n",
        "    else:\n",
        "        # If it's not multipart, directly return the content\n",
        "        # Handle potential NoneType error in get_content_charset()\n",
        "        charset = msg.get_content_charset()\n",
        "        return msg.get_payload(decode=True).decode(charset if charset else 'utf-8', 'ignore')"
      ],
      "metadata": {
        "id": "Vj_dURgVDt1U"
      },
      "execution_count": null,
      "outputs": []
    },
    {
      "cell_type": "code",
      "source": [
        "# Function to extract attachments\n",
        "def extract_attachments(msg):\n",
        "    attachments = []\n",
        "    if msg.is_multipart():\n",
        "        for part in msg.iter_parts():\n",
        "            content_disposition = part.get(\"Content-Disposition\", \"\")\n",
        "            if \"attachment\" in content_disposition:\n",
        "                filename = part.get_filename()\n",
        "                content = part.get_payload(decode=True)\n",
        "                attachments.append({\"filename\": filename, \"content\": content})\n",
        "    return attachments\n"
      ],
      "metadata": {
        "id": "EoSWBFVpDu9j"
      },
      "execution_count": null,
      "outputs": []
    },
    {
      "cell_type": "code",
      "source": [
        "def check_suspicious_headers(headers):\n",
        "    suspicious = []\n",
        "    # Check if there are multiple 'Received' headers indicating suspicious routing\n",
        "    if headers.get(\"Received\"):\n",
        "        received_headers = headers[\"Received\"].split(\"\\n\")\n",
        "        if len(received_headers) > 3:\n",
        "            suspicious.append(\"Multiple Received headers detected, possible spoofing attempt.\")\n",
        "\n",
        "    return suspicious"
      ],
      "metadata": {
        "id": "tzHL1OV8Dx1q"
      },
      "execution_count": null,
      "outputs": []
    },
    {
      "cell_type": "code",
      "source": [
        "# Main forensic analysis function\n",
        "def email_forensics(file_path):\n",
        "    msg = parse_eml(file_path)\n",
        "    headers = extract_headers(msg)\n",
        "    body = extract_body(msg)\n",
        "    attachments = extract_attachments(msg)\n",
        "    suspicious = check_suspicious_headers(headers)\n",
        "\n",
        "    # Print headers\n",
        "    print(\"Email Headers:\")\n",
        "    for key, value in headers.items():\n",
        "        print(f\"{key}: {value}\")\n",
        "\n",
        "    # Print suspicious activity\n",
        "    if suspicious:\n",
        "        print(\"\\nSuspicious Activity Detected:\")\n",
        "        for activity in suspicious:\n",
        "            print(activity)\n",
        "\n",
        "    # Print body content (First 500 characters of the body for preview)\n",
        "    print(\"\\nEmail Body Preview (First 500 chars):\")\n",
        "    print(body[:500])\n",
        "\n",
        "    # Handle attachments\n",
        "    if attachments:\n",
        "        print(\"\\nAttachments:\")\n",
        "        for attachment in attachments:\n",
        "            print(f\"Filename: {attachment['filename']}\")\n",
        "            # You can save attachments if needed:\n",
        "            # with open(attachment['filename'], 'wb') as f:\n",
        "            #     f.write(attachment['content'])\n",
        "             # Download attachments\n",
        "            if attachment['filename']:\n",
        "                with open(attachment['filename'], 'wb') as f:\n",
        "                    f.write(attachment['content'])\n",
        "                print(f\"Downloaded: {attachment['filename']}\")\n",
        "    else:\n",
        "        print(\"No attachments found.\")"
      ],
      "metadata": {
        "id": "14bLZ_GhD40A"
      },
      "execution_count": null,
      "outputs": []
    },
    {
      "cell_type": "code",
      "source": [
        "# Run the forensic analysis on the .eml file\n",
        "file_path = '/content/drive/MyDrive/forensics/Invitation For National Level Annual Techno-Cultural Fest _Technorollix-2025_.eml'\n",
        "email_forensics(file_path)"
      ],
      "metadata": {
        "id": "G-NSZa8CD8A3",
        "outputId": "70f3c25f-f0b9-4596-ee35-302e42061305",
        "colab": {
          "base_uri": "https://localhost:8080/"
        }
      },
      "execution_count": null,
      "outputs": [
        {
          "output_type": "stream",
          "name": "stdout",
          "text": [
            "Email Headers:\n",
            "From: VC Office OPJU <vc.office@opju.ac.in>\n",
            "To: opjunewsletter@opju.ac.in\n",
            "Subject: Invitation For National Level Annual Techno-Cultural Fest \"Technorollix-2025\"\n",
            "Date: Tue, 18 Mar 2025 10:48:12 +0530\n",
            "Message-ID: <CAEqVzL95=WVOb3Lz+TqOuNy2=3==Na2+j_A=NDa7HWeejy2oJQ@mail.gmail.com>\n",
            "Reply-To: None\n",
            "Received: by 2002:a05:6200:440c:b0:594:7c44:861c with SMTP id t12csp2836519qnz;        Mon, 17 Mar 2025 22:22:23 -0700 (PDT)\n",
            "\n",
            "Email Body Preview (First 500 chars):\n",
            "\n",
            "\n",
            "Attachments:\n",
            "Filename: Technorollix 2025 Poster.jpg\n",
            "Downloaded: Technorollix 2025 Poster.jpg\n",
            "Filename: Technorollix Invitation Card.pdf\n",
            "Downloaded: Technorollix Invitation Card.pdf\n"
          ]
        }
      ]
    }
  ],
  "metadata": {
    "colab": {
      "provenance": [],
      "include_colab_link": true
    },
    "kernelspec": {
      "display_name": "Python 3",
      "name": "python3"
    },
    "language_info": {
      "name": "python"
    }
  },
  "nbformat": 4,
  "nbformat_minor": 0
}